{
 "cells": [
  {
   "cell_type": "markdown",
   "metadata": {},
   "source": [
    "# Crop Yield Prediction"
   ]
  },
  {
   "cell_type": "markdown",
   "metadata": {},
   "source": [
    "## 1.Data Exploration"
   ]
  },
  {
   "cell_type": "code",
   "execution_count": 1,
   "metadata": {},
   "outputs": [],
   "source": [
    "import numpy as np\n",
    "import pandas as pd\n",
    "import matplotlib.pyplot as plt\n",
    "import tensorflow as tf "
   ]
  },
  {
   "cell_type": "code",
   "execution_count": 2,
   "metadata": {},
   "outputs": [
    {
     "data": {
      "application/vnd.microsoft.datawrangler.viewer.v0+json": {
       "columns": [
        {
         "name": "index",
         "rawType": "int64",
         "type": "integer"
        },
        {
         "name": "Unnamed: 0",
         "rawType": "int64",
         "type": "integer"
        },
        {
         "name": "Area",
         "rawType": "object",
         "type": "string"
        },
        {
         "name": "Item",
         "rawType": "object",
         "type": "string"
        },
        {
         "name": "Year",
         "rawType": "int64",
         "type": "integer"
        },
        {
         "name": "hg/ha_yield",
         "rawType": "int64",
         "type": "integer"
        },
        {
         "name": "average_rain_fall_mm_per_year",
         "rawType": "float64",
         "type": "float"
        },
        {
         "name": "pesticides_tonnes",
         "rawType": "float64",
         "type": "float"
        },
        {
         "name": "avg_temp",
         "rawType": "float64",
         "type": "float"
        }
       ],
       "conversionMethod": "pd.DataFrame",
       "ref": "66d36bb4-d032-4fe4-8055-7a1f522e3134",
       "rows": [
        [
         "0",
         "0",
         "Albania",
         "Maize",
         "1990",
         "36613",
         "1485.0",
         "121.0",
         "16.37"
        ],
        [
         "1",
         "1",
         "Albania",
         "Potatoes",
         "1990",
         "66667",
         "1485.0",
         "121.0",
         "16.37"
        ],
        [
         "2",
         "2",
         "Albania",
         "Rice, paddy",
         "1990",
         "23333",
         "1485.0",
         "121.0",
         "16.37"
        ],
        [
         "3",
         "3",
         "Albania",
         "Sorghum",
         "1990",
         "12500",
         "1485.0",
         "121.0",
         "16.37"
        ]
       ],
       "shape": {
        "columns": 8,
        "rows": 4
       }
      },
      "text/html": [
       "<div>\n",
       "<style scoped>\n",
       "    .dataframe tbody tr th:only-of-type {\n",
       "        vertical-align: middle;\n",
       "    }\n",
       "\n",
       "    .dataframe tbody tr th {\n",
       "        vertical-align: top;\n",
       "    }\n",
       "\n",
       "    .dataframe thead th {\n",
       "        text-align: right;\n",
       "    }\n",
       "</style>\n",
       "<table border=\"1\" class=\"dataframe\">\n",
       "  <thead>\n",
       "    <tr style=\"text-align: right;\">\n",
       "      <th></th>\n",
       "      <th>Unnamed: 0</th>\n",
       "      <th>Area</th>\n",
       "      <th>Item</th>\n",
       "      <th>Year</th>\n",
       "      <th>hg/ha_yield</th>\n",
       "      <th>average_rain_fall_mm_per_year</th>\n",
       "      <th>pesticides_tonnes</th>\n",
       "      <th>avg_temp</th>\n",
       "    </tr>\n",
       "  </thead>\n",
       "  <tbody>\n",
       "    <tr>\n",
       "      <th>0</th>\n",
       "      <td>0</td>\n",
       "      <td>Albania</td>\n",
       "      <td>Maize</td>\n",
       "      <td>1990</td>\n",
       "      <td>36613</td>\n",
       "      <td>1485.0</td>\n",
       "      <td>121.0</td>\n",
       "      <td>16.37</td>\n",
       "    </tr>\n",
       "    <tr>\n",
       "      <th>1</th>\n",
       "      <td>1</td>\n",
       "      <td>Albania</td>\n",
       "      <td>Potatoes</td>\n",
       "      <td>1990</td>\n",
       "      <td>66667</td>\n",
       "      <td>1485.0</td>\n",
       "      <td>121.0</td>\n",
       "      <td>16.37</td>\n",
       "    </tr>\n",
       "    <tr>\n",
       "      <th>2</th>\n",
       "      <td>2</td>\n",
       "      <td>Albania</td>\n",
       "      <td>Rice, paddy</td>\n",
       "      <td>1990</td>\n",
       "      <td>23333</td>\n",
       "      <td>1485.0</td>\n",
       "      <td>121.0</td>\n",
       "      <td>16.37</td>\n",
       "    </tr>\n",
       "    <tr>\n",
       "      <th>3</th>\n",
       "      <td>3</td>\n",
       "      <td>Albania</td>\n",
       "      <td>Sorghum</td>\n",
       "      <td>1990</td>\n",
       "      <td>12500</td>\n",
       "      <td>1485.0</td>\n",
       "      <td>121.0</td>\n",
       "      <td>16.37</td>\n",
       "    </tr>\n",
       "  </tbody>\n",
       "</table>\n",
       "</div>"
      ],
      "text/plain": [
       "   Unnamed: 0     Area         Item  Year  hg/ha_yield  \\\n",
       "0           0  Albania        Maize  1990        36613   \n",
       "1           1  Albania     Potatoes  1990        66667   \n",
       "2           2  Albania  Rice, paddy  1990        23333   \n",
       "3           3  Albania      Sorghum  1990        12500   \n",
       "\n",
       "   average_rain_fall_mm_per_year  pesticides_tonnes  avg_temp  \n",
       "0                         1485.0              121.0     16.37  \n",
       "1                         1485.0              121.0     16.37  \n",
       "2                         1485.0              121.0     16.37  \n",
       "3                         1485.0              121.0     16.37  "
      ]
     },
     "execution_count": 2,
     "metadata": {},
     "output_type": "execute_result"
    }
   ],
   "source": [
    "df = pd.read_csv('yield_df.csv')\n",
    "df.head(4)"
   ]
  },
  {
   "cell_type": "code",
   "execution_count": 3,
   "metadata": {},
   "outputs": [
    {
     "name": "stdout",
     "output_type": "stream",
     "text": [
      "<class 'pandas.core.frame.DataFrame'>\n",
      "RangeIndex: 28242 entries, 0 to 28241\n",
      "Data columns (total 8 columns):\n",
      " #   Column                         Non-Null Count  Dtype  \n",
      "---  ------                         --------------  -----  \n",
      " 0   Unnamed: 0                     28242 non-null  int64  \n",
      " 1   Area                           28242 non-null  object \n",
      " 2   Item                           28242 non-null  object \n",
      " 3   Year                           28242 non-null  int64  \n",
      " 4   hg/ha_yield                    28242 non-null  int64  \n",
      " 5   average_rain_fall_mm_per_year  28242 non-null  float64\n",
      " 6   pesticides_tonnes              28242 non-null  float64\n",
      " 7   avg_temp                       28242 non-null  float64\n",
      "dtypes: float64(3), int64(3), object(2)\n",
      "memory usage: 1.7+ MB\n"
     ]
    }
   ],
   "source": [
    "df.info()"
   ]
  },
  {
   "cell_type": "code",
   "execution_count": 4,
   "metadata": {},
   "outputs": [
    {
     "data": {
      "application/vnd.microsoft.datawrangler.viewer.v0+json": {
       "columns": [
        {
         "name": "index",
         "rawType": "object",
         "type": "string"
        },
        {
         "name": "Unnamed: 0",
         "rawType": "float64",
         "type": "float"
        },
        {
         "name": "Year",
         "rawType": "float64",
         "type": "float"
        },
        {
         "name": "hg/ha_yield",
         "rawType": "float64",
         "type": "float"
        },
        {
         "name": "average_rain_fall_mm_per_year",
         "rawType": "float64",
         "type": "float"
        },
        {
         "name": "pesticides_tonnes",
         "rawType": "float64",
         "type": "float"
        },
        {
         "name": "avg_temp",
         "rawType": "float64",
         "type": "float"
        }
       ],
       "conversionMethod": "pd.DataFrame",
       "ref": "bc472ec3-7e92-40d8-a6bf-1517ce07e2fa",
       "rows": [
        [
         "count",
         "28242.0",
         "28242.0",
         "28242.0",
         "28242.0",
         "28242.0",
         "28242.0"
        ],
        [
         "mean",
         "14120.5",
         "2001.5442957297641",
         "77053.33209404434",
         "1149.055980454642",
         "37076.909343530904",
         "20.542626584519507"
        ],
        [
         "std",
         "8152.90748751634",
         "7.05190528539453",
         "84956.61289666744",
         "709.8121499492202",
         "59958.78466505808",
         "6.312050836049793"
        ],
        [
         "min",
         "0.0",
         "1990.0",
         "50.0",
         "51.0",
         "0.04",
         "1.3"
        ],
        [
         "25%",
         "7060.25",
         "1995.0",
         "19919.25",
         "593.0",
         "1702.0",
         "16.7025"
        ],
        [
         "50%",
         "14120.5",
         "2001.0",
         "38295.0",
         "1083.0",
         "17529.44",
         "21.51"
        ],
        [
         "75%",
         "21180.75",
         "2008.0",
         "104676.75",
         "1668.0",
         "48687.88",
         "26.0"
        ],
        [
         "max",
         "28241.0",
         "2013.0",
         "501412.0",
         "3240.0",
         "367778.0",
         "30.65"
        ]
       ],
       "shape": {
        "columns": 6,
        "rows": 8
       }
      },
      "text/html": [
       "<div>\n",
       "<style scoped>\n",
       "    .dataframe tbody tr th:only-of-type {\n",
       "        vertical-align: middle;\n",
       "    }\n",
       "\n",
       "    .dataframe tbody tr th {\n",
       "        vertical-align: top;\n",
       "    }\n",
       "\n",
       "    .dataframe thead th {\n",
       "        text-align: right;\n",
       "    }\n",
       "</style>\n",
       "<table border=\"1\" class=\"dataframe\">\n",
       "  <thead>\n",
       "    <tr style=\"text-align: right;\">\n",
       "      <th></th>\n",
       "      <th>Unnamed: 0</th>\n",
       "      <th>Year</th>\n",
       "      <th>hg/ha_yield</th>\n",
       "      <th>average_rain_fall_mm_per_year</th>\n",
       "      <th>pesticides_tonnes</th>\n",
       "      <th>avg_temp</th>\n",
       "    </tr>\n",
       "  </thead>\n",
       "  <tbody>\n",
       "    <tr>\n",
       "      <th>count</th>\n",
       "      <td>28242.000000</td>\n",
       "      <td>28242.000000</td>\n",
       "      <td>28242.000000</td>\n",
       "      <td>28242.00000</td>\n",
       "      <td>28242.000000</td>\n",
       "      <td>28242.000000</td>\n",
       "    </tr>\n",
       "    <tr>\n",
       "      <th>mean</th>\n",
       "      <td>14120.500000</td>\n",
       "      <td>2001.544296</td>\n",
       "      <td>77053.332094</td>\n",
       "      <td>1149.05598</td>\n",
       "      <td>37076.909344</td>\n",
       "      <td>20.542627</td>\n",
       "    </tr>\n",
       "    <tr>\n",
       "      <th>std</th>\n",
       "      <td>8152.907488</td>\n",
       "      <td>7.051905</td>\n",
       "      <td>84956.612897</td>\n",
       "      <td>709.81215</td>\n",
       "      <td>59958.784665</td>\n",
       "      <td>6.312051</td>\n",
       "    </tr>\n",
       "    <tr>\n",
       "      <th>min</th>\n",
       "      <td>0.000000</td>\n",
       "      <td>1990.000000</td>\n",
       "      <td>50.000000</td>\n",
       "      <td>51.00000</td>\n",
       "      <td>0.040000</td>\n",
       "      <td>1.300000</td>\n",
       "    </tr>\n",
       "    <tr>\n",
       "      <th>25%</th>\n",
       "      <td>7060.250000</td>\n",
       "      <td>1995.000000</td>\n",
       "      <td>19919.250000</td>\n",
       "      <td>593.00000</td>\n",
       "      <td>1702.000000</td>\n",
       "      <td>16.702500</td>\n",
       "    </tr>\n",
       "    <tr>\n",
       "      <th>50%</th>\n",
       "      <td>14120.500000</td>\n",
       "      <td>2001.000000</td>\n",
       "      <td>38295.000000</td>\n",
       "      <td>1083.00000</td>\n",
       "      <td>17529.440000</td>\n",
       "      <td>21.510000</td>\n",
       "    </tr>\n",
       "    <tr>\n",
       "      <th>75%</th>\n",
       "      <td>21180.750000</td>\n",
       "      <td>2008.000000</td>\n",
       "      <td>104676.750000</td>\n",
       "      <td>1668.00000</td>\n",
       "      <td>48687.880000</td>\n",
       "      <td>26.000000</td>\n",
       "    </tr>\n",
       "    <tr>\n",
       "      <th>max</th>\n",
       "      <td>28241.000000</td>\n",
       "      <td>2013.000000</td>\n",
       "      <td>501412.000000</td>\n",
       "      <td>3240.00000</td>\n",
       "      <td>367778.000000</td>\n",
       "      <td>30.650000</td>\n",
       "    </tr>\n",
       "  </tbody>\n",
       "</table>\n",
       "</div>"
      ],
      "text/plain": [
       "         Unnamed: 0          Year    hg/ha_yield  \\\n",
       "count  28242.000000  28242.000000   28242.000000   \n",
       "mean   14120.500000   2001.544296   77053.332094   \n",
       "std     8152.907488      7.051905   84956.612897   \n",
       "min        0.000000   1990.000000      50.000000   \n",
       "25%     7060.250000   1995.000000   19919.250000   \n",
       "50%    14120.500000   2001.000000   38295.000000   \n",
       "75%    21180.750000   2008.000000  104676.750000   \n",
       "max    28241.000000   2013.000000  501412.000000   \n",
       "\n",
       "       average_rain_fall_mm_per_year  pesticides_tonnes      avg_temp  \n",
       "count                    28242.00000       28242.000000  28242.000000  \n",
       "mean                      1149.05598       37076.909344     20.542627  \n",
       "std                        709.81215       59958.784665      6.312051  \n",
       "min                         51.00000           0.040000      1.300000  \n",
       "25%                        593.00000        1702.000000     16.702500  \n",
       "50%                       1083.00000       17529.440000     21.510000  \n",
       "75%                       1668.00000       48687.880000     26.000000  \n",
       "max                       3240.00000      367778.000000     30.650000  "
      ]
     },
     "execution_count": 4,
     "metadata": {},
     "output_type": "execute_result"
    }
   ],
   "source": [
    "df.describe()"
   ]
  },
  {
   "cell_type": "code",
   "execution_count": 5,
   "metadata": {},
   "outputs": [],
   "source": [
    "df = df.drop(columns=['Unnamed: 0','Area','Year'],axis=1)"
   ]
  },
  {
   "cell_type": "code",
   "execution_count": 6,
   "metadata": {},
   "outputs": [
    {
     "data": {
      "application/vnd.microsoft.datawrangler.viewer.v0+json": {
       "columns": [
        {
         "name": "index",
         "rawType": "int64",
         "type": "integer"
        },
        {
         "name": "Item",
         "rawType": "object",
         "type": "string"
        },
        {
         "name": "hg/ha_yield",
         "rawType": "int64",
         "type": "integer"
        },
        {
         "name": "average_rain_fall_mm_per_year",
         "rawType": "float64",
         "type": "float"
        },
        {
         "name": "pesticides_tonnes",
         "rawType": "float64",
         "type": "float"
        },
        {
         "name": "avg_temp",
         "rawType": "float64",
         "type": "float"
        }
       ],
       "conversionMethod": "pd.DataFrame",
       "ref": "6c64f6dc-6374-45fe-b1eb-ea48ee1380fe",
       "rows": [
        [
         "0",
         "Maize",
         "36613",
         "1485.0",
         "121.0",
         "16.37"
        ],
        [
         "1",
         "Potatoes",
         "66667",
         "1485.0",
         "121.0",
         "16.37"
        ],
        [
         "2",
         "Rice, paddy",
         "23333",
         "1485.0",
         "121.0",
         "16.37"
        ],
        [
         "3",
         "Sorghum",
         "12500",
         "1485.0",
         "121.0",
         "16.37"
        ]
       ],
       "shape": {
        "columns": 5,
        "rows": 4
       }
      },
      "text/html": [
       "<div>\n",
       "<style scoped>\n",
       "    .dataframe tbody tr th:only-of-type {\n",
       "        vertical-align: middle;\n",
       "    }\n",
       "\n",
       "    .dataframe tbody tr th {\n",
       "        vertical-align: top;\n",
       "    }\n",
       "\n",
       "    .dataframe thead th {\n",
       "        text-align: right;\n",
       "    }\n",
       "</style>\n",
       "<table border=\"1\" class=\"dataframe\">\n",
       "  <thead>\n",
       "    <tr style=\"text-align: right;\">\n",
       "      <th></th>\n",
       "      <th>Item</th>\n",
       "      <th>hg/ha_yield</th>\n",
       "      <th>average_rain_fall_mm_per_year</th>\n",
       "      <th>pesticides_tonnes</th>\n",
       "      <th>avg_temp</th>\n",
       "    </tr>\n",
       "  </thead>\n",
       "  <tbody>\n",
       "    <tr>\n",
       "      <th>0</th>\n",
       "      <td>Maize</td>\n",
       "      <td>36613</td>\n",
       "      <td>1485.0</td>\n",
       "      <td>121.0</td>\n",
       "      <td>16.37</td>\n",
       "    </tr>\n",
       "    <tr>\n",
       "      <th>1</th>\n",
       "      <td>Potatoes</td>\n",
       "      <td>66667</td>\n",
       "      <td>1485.0</td>\n",
       "      <td>121.0</td>\n",
       "      <td>16.37</td>\n",
       "    </tr>\n",
       "    <tr>\n",
       "      <th>2</th>\n",
       "      <td>Rice, paddy</td>\n",
       "      <td>23333</td>\n",
       "      <td>1485.0</td>\n",
       "      <td>121.0</td>\n",
       "      <td>16.37</td>\n",
       "    </tr>\n",
       "    <tr>\n",
       "      <th>3</th>\n",
       "      <td>Sorghum</td>\n",
       "      <td>12500</td>\n",
       "      <td>1485.0</td>\n",
       "      <td>121.0</td>\n",
       "      <td>16.37</td>\n",
       "    </tr>\n",
       "  </tbody>\n",
       "</table>\n",
       "</div>"
      ],
      "text/plain": [
       "          Item  hg/ha_yield  average_rain_fall_mm_per_year  pesticides_tonnes  \\\n",
       "0        Maize        36613                         1485.0              121.0   \n",
       "1     Potatoes        66667                         1485.0              121.0   \n",
       "2  Rice, paddy        23333                         1485.0              121.0   \n",
       "3      Sorghum        12500                         1485.0              121.0   \n",
       "\n",
       "   avg_temp  \n",
       "0     16.37  \n",
       "1     16.37  \n",
       "2     16.37  \n",
       "3     16.37  "
      ]
     },
     "execution_count": 6,
     "metadata": {},
     "output_type": "execute_result"
    }
   ],
   "source": [
    "df.head(4)"
   ]
  },
  {
   "cell_type": "code",
   "execution_count": 7,
   "metadata": {},
   "outputs": [
    {
     "data": {
      "text/plain": [
       "Item\n",
       "Potatoes                4276\n",
       "Maize                   4121\n",
       "Wheat                   3857\n",
       "Rice, paddy             3388\n",
       "Soybeans                3223\n",
       "Sorghum                 3039\n",
       "Sweet potatoes          2890\n",
       "Cassava                 2045\n",
       "Yams                     847\n",
       "Plantains and others     556\n",
       "Name: count, dtype: int64"
      ]
     },
     "execution_count": 7,
     "metadata": {},
     "output_type": "execute_result"
    }
   ],
   "source": [
    "df['Item'].value_counts()"
   ]
  },
  {
   "cell_type": "code",
   "execution_count": 8,
   "metadata": {},
   "outputs": [
    {
     "name": "stdout",
     "output_type": "stream",
     "text": [
      "<class 'pandas.core.frame.DataFrame'>\n",
      "RangeIndex: 28242 entries, 0 to 28241\n",
      "Data columns (total 5 columns):\n",
      " #   Column                         Non-Null Count  Dtype  \n",
      "---  ------                         --------------  -----  \n",
      " 0   Item                           28242 non-null  object \n",
      " 1   hg/ha_yield                    28242 non-null  int64  \n",
      " 2   average_rain_fall_mm_per_year  28242 non-null  float64\n",
      " 3   pesticides_tonnes              28242 non-null  float64\n",
      " 4   avg_temp                       28242 non-null  float64\n",
      "dtypes: float64(3), int64(1), object(1)\n",
      "memory usage: 1.1+ MB\n"
     ]
    }
   ],
   "source": [
    "df.info()"
   ]
  },
  {
   "cell_type": "code",
   "execution_count": 9,
   "metadata": {},
   "outputs": [
    {
     "data": {
      "text/plain": [
       "Item                             0\n",
       "hg/ha_yield                      0\n",
       "average_rain_fall_mm_per_year    0\n",
       "pesticides_tonnes                0\n",
       "avg_temp                         0\n",
       "dtype: int64"
      ]
     },
     "execution_count": 9,
     "metadata": {},
     "output_type": "execute_result"
    }
   ],
   "source": [
    "df.isnull().sum()"
   ]
  },
  {
   "cell_type": "code",
   "execution_count": 10,
   "metadata": {},
   "outputs": [
    {
     "data": {
      "text/plain": [
       "2313"
      ]
     },
     "execution_count": 10,
     "metadata": {},
     "output_type": "execute_result"
    }
   ],
   "source": [
    "df.duplicated().sum()"
   ]
  },
  {
   "cell_type": "code",
   "execution_count": 11,
   "metadata": {},
   "outputs": [],
   "source": [
    "df.drop_duplicates(inplace=True)"
   ]
  },
  {
   "cell_type": "markdown",
   "metadata": {},
   "source": [
    "## 2.Feature Engineering "
   ]
  },
  {
   "cell_type": "code",
   "execution_count": 12,
   "metadata": {},
   "outputs": [],
   "source": [
    "X = df.drop(columns= ['hg/ha_yield'],axis =1 )\n",
    "y = df['hg/ha_yield']"
   ]
  },
  {
   "cell_type": "code",
   "execution_count": 13,
   "metadata": {},
   "outputs": [
    {
     "data": {
      "application/vnd.microsoft.datawrangler.viewer.v0+json": {
       "columns": [
        {
         "name": "index",
         "rawType": "int64",
         "type": "integer"
        },
        {
         "name": "Item",
         "rawType": "object",
         "type": "string"
        },
        {
         "name": "average_rain_fall_mm_per_year",
         "rawType": "float64",
         "type": "float"
        },
        {
         "name": "pesticides_tonnes",
         "rawType": "float64",
         "type": "float"
        },
        {
         "name": "avg_temp",
         "rawType": "float64",
         "type": "float"
        }
       ],
       "conversionMethod": "pd.DataFrame",
       "ref": "7e12937f-5249-468d-a00d-374f9d0a8ec7",
       "rows": [
        [
         "25854",
         "Rice, paddy",
         "1712.0",
         "1112.8",
         "26.88"
        ],
        [
         "23867",
         "Sorghum",
         "637.0",
         "9427.4",
         "12.44"
        ],
        [
         "26150",
         "Maize",
         "1537.0",
         "2170.4",
         "8.15"
        ]
       ],
       "shape": {
        "columns": 4,
        "rows": 3
       }
      },
      "text/html": [
       "<div>\n",
       "<style scoped>\n",
       "    .dataframe tbody tr th:only-of-type {\n",
       "        vertical-align: middle;\n",
       "    }\n",
       "\n",
       "    .dataframe tbody tr th {\n",
       "        vertical-align: top;\n",
       "    }\n",
       "\n",
       "    .dataframe thead th {\n",
       "        text-align: right;\n",
       "    }\n",
       "</style>\n",
       "<table border=\"1\" class=\"dataframe\">\n",
       "  <thead>\n",
       "    <tr style=\"text-align: right;\">\n",
       "      <th></th>\n",
       "      <th>Item</th>\n",
       "      <th>average_rain_fall_mm_per_year</th>\n",
       "      <th>pesticides_tonnes</th>\n",
       "      <th>avg_temp</th>\n",
       "    </tr>\n",
       "  </thead>\n",
       "  <tbody>\n",
       "    <tr>\n",
       "      <th>25854</th>\n",
       "      <td>Rice, paddy</td>\n",
       "      <td>1712.0</td>\n",
       "      <td>1112.8</td>\n",
       "      <td>26.88</td>\n",
       "    </tr>\n",
       "    <tr>\n",
       "      <th>23867</th>\n",
       "      <td>Sorghum</td>\n",
       "      <td>637.0</td>\n",
       "      <td>9427.4</td>\n",
       "      <td>12.44</td>\n",
       "    </tr>\n",
       "    <tr>\n",
       "      <th>26150</th>\n",
       "      <td>Maize</td>\n",
       "      <td>1537.0</td>\n",
       "      <td>2170.4</td>\n",
       "      <td>8.15</td>\n",
       "    </tr>\n",
       "  </tbody>\n",
       "</table>\n",
       "</div>"
      ],
      "text/plain": [
       "              Item  average_rain_fall_mm_per_year  pesticides_tonnes  avg_temp\n",
       "25854  Rice, paddy                         1712.0             1112.8     26.88\n",
       "23867      Sorghum                          637.0             9427.4     12.44\n",
       "26150        Maize                         1537.0             2170.4      8.15"
      ]
     },
     "execution_count": 13,
     "metadata": {},
     "output_type": "execute_result"
    }
   ],
   "source": [
    "X.sample(3)"
   ]
  },
  {
   "cell_type": "code",
   "execution_count": 14,
   "metadata": {},
   "outputs": [
    {
     "data": {
      "text/plain": [
       "((19446, 4), (6483, 4))"
      ]
     },
     "execution_count": 14,
     "metadata": {},
     "output_type": "execute_result"
    }
   ],
   "source": [
    "from sklearn.model_selection import train_test_split\n",
    "X_train, X_test, y_train, y_test = train_test_split(X,y,test_size=0.25,random_state=41)\n",
    "X_train.shape, X_test.shape"
   ]
  },
  {
   "cell_type": "code",
   "execution_count": 15,
   "metadata": {},
   "outputs": [],
   "source": [
    "from sklearn.preprocessing import StandardScaler\n",
    "from sklearn.compose import ColumnTransformer\n",
    "from sklearn.preprocessing import LabelEncoder\n",
    "\n",
    "scaler = StandardScaler()\n",
    "le = LabelEncoder()\n",
    "le.fit(X_train['Item'])\n",
    "X_train['Item'] = le.transform(X_train['Item'])\n",
    "X_test['Item'] = le.transform(X_test['Item'])\n",
    "\n",
    "processor = ColumnTransformer(\n",
    "    transformers=[\n",
    "        \n",
    "        ('Standard_scaler',scaler,[1,2,3])\n",
    "    ],\n",
    "    remainder='passthrough'\n",
    ")"
   ]
  },
  {
   "cell_type": "code",
   "execution_count": 16,
   "metadata": {},
   "outputs": [],
   "source": [
    "X_train_pro = processor.fit_transform(X_train)\n",
    "X_test_pro  = processor.transform(X_test)"
   ]
  },
  {
   "cell_type": "code",
   "execution_count": 17,
   "metadata": {},
   "outputs": [
    {
     "data": {
      "application/vnd.microsoft.datawrangler.viewer.v0+json": {
       "columns": [
        {
         "name": "index",
         "rawType": "int64",
         "type": "integer"
        },
        {
         "name": "Item",
         "rawType": "int32",
         "type": "integer"
        },
        {
         "name": "average_rain_fall_mm_per_year",
         "rawType": "float64",
         "type": "float"
        },
        {
         "name": "pesticides_tonnes",
         "rawType": "float64",
         "type": "float"
        },
        {
         "name": "avg_temp",
         "rawType": "float64",
         "type": "float"
        }
       ],
       "conversionMethod": "pd.DataFrame",
       "ref": "ef6fb3b5-bdff-4f21-9d13-53becd6096e0",
       "rows": [
        [
         "3873",
         "5",
         "1761.0",
         "214725.0",
         "21.59"
        ],
        [
         "28240",
         "7",
         "657.0",
         "2550.07",
         "19.76"
        ],
        [
         "8077",
         "8",
         "2274.0",
         "6471.77",
         "17.28"
        ],
        [
         "1188",
         "1",
         "534.0",
         "34200.0",
         "12.1"
        ],
        [
         "24027",
         "5",
         "1212.0",
         "152.0",
         "19.35"
        ],
        [
         "8691",
         "3",
         "626.0",
         "452.0",
         "6.7"
        ],
        [
         "18117",
         "4",
         "1513.0",
         "139.89",
         "19.97"
        ],
        [
         "24487",
         "1",
         "1162.0",
         "953.0",
         "9.24"
        ],
        [
         "12388",
         "6",
         "1083.0",
         "44957.52",
         "25.11"
        ],
        [
         "5577",
         "9",
         "1604.0",
         "1372.47",
         "25.45"
        ],
        [
         "18630",
         "8",
         "282.0",
         "8.67",
         "28.07"
        ],
        [
         "7383",
         "2",
         "1410.0",
         "5975.25",
         "26.88"
        ],
        [
         "1412",
         "4",
         "534.0",
         "34310.0",
         "18.26"
        ],
        [
         "2639",
         "9",
         "1761.0",
         "49695.0",
         "24.64"
        ],
        [
         "12756",
         "7",
         "1083.0",
         "42482.56",
         "27.03"
        ],
        [
         "8433",
         "0",
         "1784.0",
         "3630.31",
         "26.33"
        ],
        [
         "22914",
         "3",
         "494.0",
         "2968.44",
         "26.79"
        ],
        [
         "22127",
         "7",
         "494.0",
         "11955.0",
         "27.17"
        ],
        [
         "12261",
         "8",
         "1083.0",
         "46195.0",
         "26.21"
        ],
        [
         "15286",
         "3",
         "2702.0",
         "1597.0",
         "26.63"
        ],
        [
         "7608",
         "5",
         "2274.0",
         "2658.0",
         "21.96"
        ],
        [
         "748",
         "1",
         "562.0",
         "8.0",
         "7.69"
        ],
        [
         "25004",
         "1",
         "495.0",
         "26857.0",
         "15.9"
        ],
        [
         "1176",
         "7",
         "534.0",
         "37215.0",
         "12.46"
        ],
        [
         "3290",
         "6",
         "1761.0",
         "110276.11",
         "21.91"
        ],
        [
         "12347",
         "4",
         "1083.0",
         "44957.52",
         "27.03"
        ],
        [
         "19659",
         "6",
         "758.0",
         "34468.93",
         "23.07"
        ],
        [
         "15314",
         "1",
         "2702.0",
         "1597.0",
         "27.37"
        ],
        [
         "14960",
         "3",
         "2702.0",
         "1597.0",
         "27.26"
        ],
        [
         "25765",
         "3",
         "1712.0",
         "1695.71",
         "26.43"
        ],
        [
         "6960",
         "1",
         "1113.0",
         "3026.25",
         "10.18"
        ],
        [
         "14022",
         "0",
         "1083.0",
         "55540.0",
         "25.53"
        ],
        [
         "18024",
         "8",
         "656.0",
         "726.09",
         "6.75"
        ],
        [
         "24514",
         "8",
         "1162.0",
         "1164.1",
         "11.18"
        ],
        [
         "5705",
         "3",
         "537.0",
         "32223.4",
         "8.52"
        ],
        [
         "20071",
         "1",
         "758.0",
         "61732.11",
         "16.22"
        ],
        [
         "1035",
         "4",
         "534.0",
         "25598.0",
         "16.95"
        ],
        [
         "22595",
         "3",
         "494.0",
         "7914.31",
         "27.21"
        ],
        [
         "3050",
         "1",
         "1761.0",
         "92967.22",
         "18.27"
        ],
        [
         "26670",
         "8",
         "593.0",
         "27328.0",
         "19.15"
        ],
        [
         "10241",
         "3",
         "1976.0",
         "2387.0",
         "24.41"
        ],
        [
         "10700",
         "1",
         "1083.0",
         "72133.0",
         "25.85"
        ],
        [
         "261",
         "0",
         "1010.0",
         "40.0",
         "24.96"
        ],
        [
         "13729",
         "3",
         "1083.0",
         "28707.01",
         "26.31"
        ],
        [
         "4264",
         "4",
         "1761.0",
         "312637.0",
         "26.94"
        ],
        [
         "5094",
         "1",
         "748.0",
         "190.92",
         "28.4"
        ],
        [
         "8459",
         "2",
         "1784.0",
         "3164.62",
         "26.48"
        ],
        [
         "12750",
         "7",
         "1083.0",
         "42482.56",
         "25.76"
        ],
        [
         "8893",
         "1",
         "700.0",
         "31289.0",
         "5.92"
        ],
        [
         "10449",
         "3",
         "589.0",
         "9676.0",
         "10.05"
        ]
       ],
       "shape": {
        "columns": 4,
        "rows": 6483
       }
      },
      "text/html": [
       "<div>\n",
       "<style scoped>\n",
       "    .dataframe tbody tr th:only-of-type {\n",
       "        vertical-align: middle;\n",
       "    }\n",
       "\n",
       "    .dataframe tbody tr th {\n",
       "        vertical-align: top;\n",
       "    }\n",
       "\n",
       "    .dataframe thead th {\n",
       "        text-align: right;\n",
       "    }\n",
       "</style>\n",
       "<table border=\"1\" class=\"dataframe\">\n",
       "  <thead>\n",
       "    <tr style=\"text-align: right;\">\n",
       "      <th></th>\n",
       "      <th>Item</th>\n",
       "      <th>average_rain_fall_mm_per_year</th>\n",
       "      <th>pesticides_tonnes</th>\n",
       "      <th>avg_temp</th>\n",
       "    </tr>\n",
       "  </thead>\n",
       "  <tbody>\n",
       "    <tr>\n",
       "      <th>3873</th>\n",
       "      <td>5</td>\n",
       "      <td>1761.0</td>\n",
       "      <td>214725.00</td>\n",
       "      <td>21.59</td>\n",
       "    </tr>\n",
       "    <tr>\n",
       "      <th>28240</th>\n",
       "      <td>7</td>\n",
       "      <td>657.0</td>\n",
       "      <td>2550.07</td>\n",
       "      <td>19.76</td>\n",
       "    </tr>\n",
       "    <tr>\n",
       "      <th>8077</th>\n",
       "      <td>8</td>\n",
       "      <td>2274.0</td>\n",
       "      <td>6471.77</td>\n",
       "      <td>17.28</td>\n",
       "    </tr>\n",
       "    <tr>\n",
       "      <th>1188</th>\n",
       "      <td>1</td>\n",
       "      <td>534.0</td>\n",
       "      <td>34200.00</td>\n",
       "      <td>12.10</td>\n",
       "    </tr>\n",
       "    <tr>\n",
       "      <th>24027</th>\n",
       "      <td>5</td>\n",
       "      <td>1212.0</td>\n",
       "      <td>152.00</td>\n",
       "      <td>19.35</td>\n",
       "    </tr>\n",
       "    <tr>\n",
       "      <th>...</th>\n",
       "      <td>...</td>\n",
       "      <td>...</td>\n",
       "      <td>...</td>\n",
       "      <td>...</td>\n",
       "    </tr>\n",
       "    <tr>\n",
       "      <th>4147</th>\n",
       "      <td>1</td>\n",
       "      <td>1761.0</td>\n",
       "      <td>304031.00</td>\n",
       "      <td>25.44</td>\n",
       "    </tr>\n",
       "    <tr>\n",
       "      <th>3211</th>\n",
       "      <td>7</td>\n",
       "      <td>1761.0</td>\n",
       "      <td>101621.67</td>\n",
       "      <td>24.28</td>\n",
       "    </tr>\n",
       "    <tr>\n",
       "      <th>19928</th>\n",
       "      <td>8</td>\n",
       "      <td>758.0</td>\n",
       "      <td>51741.99</td>\n",
       "      <td>21.42</td>\n",
       "    </tr>\n",
       "    <tr>\n",
       "      <th>13697</th>\n",
       "      <td>1</td>\n",
       "      <td>1083.0</td>\n",
       "      <td>28707.01</td>\n",
       "      <td>26.68</td>\n",
       "    </tr>\n",
       "    <tr>\n",
       "      <th>4868</th>\n",
       "      <td>3</td>\n",
       "      <td>608.0</td>\n",
       "      <td>3133.50</td>\n",
       "      <td>9.16</td>\n",
       "    </tr>\n",
       "  </tbody>\n",
       "</table>\n",
       "<p>6483 rows × 4 columns</p>\n",
       "</div>"
      ],
      "text/plain": [
       "       Item  average_rain_fall_mm_per_year  pesticides_tonnes  avg_temp\n",
       "3873      5                         1761.0          214725.00     21.59\n",
       "28240     7                          657.0            2550.07     19.76\n",
       "8077      8                         2274.0            6471.77     17.28\n",
       "1188      1                          534.0           34200.00     12.10\n",
       "24027     5                         1212.0             152.00     19.35\n",
       "...     ...                            ...                ...       ...\n",
       "4147      1                         1761.0          304031.00     25.44\n",
       "3211      7                         1761.0          101621.67     24.28\n",
       "19928     8                          758.0           51741.99     21.42\n",
       "13697     1                         1083.0           28707.01     26.68\n",
       "4868      3                          608.0            3133.50      9.16\n",
       "\n",
       "[6483 rows x 4 columns]"
      ]
     },
     "execution_count": 17,
     "metadata": {},
     "output_type": "execute_result"
    }
   ],
   "source": [
    "X_test"
   ]
  },
  {
   "cell_type": "code",
   "execution_count": 18,
   "metadata": {},
   "outputs": [
    {
     "data": {
      "text/plain": [
       "array([[ 0.85754542,  3.19940194,  0.18283   ,  5.        ],\n",
       "       [-0.68270411, -0.56428782, -0.10108907,  7.        ],\n",
       "       [ 1.57325919, -0.49472229, -0.4858537 ,  8.        ],\n",
       "       ...,\n",
       "       [-0.5417936 ,  0.30830879,  0.156455  ,  8.        ],\n",
       "       [-0.08836869, -0.10029989,  0.97252837,  1.        ],\n",
       "       [-0.75106663, -0.55393858, -1.74564758,  3.        ]])"
      ]
     },
     "execution_count": 18,
     "metadata": {},
     "output_type": "execute_result"
    }
   ],
   "source": [
    "X_test_pro"
   ]
  },
  {
   "cell_type": "markdown",
   "metadata": {},
   "source": [
    "## 3.Model Building"
   ]
  },
  {
   "cell_type": "code",
   "execution_count": 19,
   "metadata": {},
   "outputs": [
    {
     "name": "stdout",
     "output_type": "stream",
     "text": [
      "Stacking (RandomizedSearchCV) MSE: 274034937.85999566 -> score: 0.9612920845026337 -> Absolute_error: 16554.000660263235\n"
     ]
    }
   ],
   "source": [
    "from sklearn.linear_model import LinearRegression, Lasso, Ridge\n",
    "from sklearn.tree import DecisionTreeRegressor\n",
    "from sklearn.ensemble import RandomForestRegressor, GradientBoostingRegressor, StackingRegressor\n",
    "from sklearn.neighbors import KNeighborsRegressor\n",
    "from sklearn.metrics import mean_squared_error, r2_score\n",
    "from sklearn.model_selection import RandomizedSearchCV\n",
    "from sklearn.pipeline import make_pipeline\n",
    "\n",
    "# Assuming you have X_train_pro, y_train, X_test_pro, y_test defined\n",
    "\n",
    "# Define base models\n",
    "base_models = [\n",
    "    ('lr', LinearRegression()),\n",
    "    ('dtr', DecisionTreeRegressor(random_state=41)),\n",
    "    ('lasso', Lasso(random_state=19)),\n",
    "    ('ridge', Ridge(random_state=19)),\n",
    "    ('rf', RandomForestRegressor(random_state=41)),\n",
    "    ('knn', KNeighborsRegressor()),\n",
    "    ('gbr', GradientBoostingRegressor(random_state=41))\n",
    "]\n",
    "\n",
    "# Define meta-learner\n",
    "meta_learner = RandomForestRegressor()  \n",
    "\n",
    "# Define stacking regressor\n",
    "stacking_regressor = StackingRegressor(estimators=base_models, final_estimator=meta_learner)\n",
    "\n",
    "# Define parameter distributions for RandomizedSearchCV\n",
    "param_dist = {\n",
    "    'gbr__n_estimators': [100, 200, 300, 400, 500],\n",
    "    'gbr__learning_rate': [0.01, 0.05, 0.1, 0.2],\n",
    "    'gbr__max_depth': [3, 4, 5, 6],\n",
    "    'rf__n_estimators': [100, 200, 300, 400, 500],\n",
    "    'rf__max_depth': [None, 10, 20, 30],\n",
    "    'knn__n_neighbors': [3, 5, 7, 9, 11]\n",
    "}\n",
    "\n",
    "# Perform RandomizedSearchCV\n",
    "random_search = RandomizedSearchCV(stacking_regressor, param_distributions=param_dist, n_iter=10, cv=5, random_state=42, n_jobs=-1)\n",
    "random_search.fit(X_train_pro, y_train)\n",
    "\n",
    "# Get the best model\n",
    "best_stacking_model = random_search.best_estimator_\n",
    "\n",
    "# Make predictions with the best model\n",
    "y_pred_stacking = best_stacking_model.predict(X_test_pro)\n",
    "\n",
    "# Evaluate the best model\n",
    "mse_stacking = mean_squared_error(y_test, y_pred_stacking)\n",
    "r2_stacking = r2_score(y_test, y_pred_stacking)\n",
    "rmse_stacking = np.sqrt(mse_stacking)\n",
    "\n",
    "print(f\"Stacking (RandomizedSearchCV) MSE: {mse_stacking} -> score: {r2_stacking} -> Absolute_error: {rmse_stacking}\")"
   ]
  },
  {
   "cell_type": "markdown",
   "metadata": {},
   "source": [
    "### Visualizing the results"
   ]
  },
  {
   "cell_type": "code",
   "execution_count": 20,
   "metadata": {},
   "outputs": [
    {
     "data": {
      "image/png": "[encoded data removed]",
      "text/plain": [
       "<Figure size 1000x600 with 1 Axes>"
      ]
     },
     "metadata": {},
     "output_type": "display_data"
    },
    {
     "data": {
      "image/png": "[encoded data removed]",
      "text/plain": [
       "<Figure size 1000x600 with 1 Axes>"
      ]
     },
     "metadata": {},
     "output_type": "display_data"
    },
    {
     "data": {
      "image/png": "[encoded data removed]",
      "text/plain": [
       "<Figure size 800x500 with 1 Axes>"
      ]
     },
     "metadata": {},
     "output_type": "display_data"
    }
   ],
   "source": [
    "from matplotlib import pyplot as plt\n",
    "\n",
    "# 1. Predicted vs. Actual Values\n",
    "\n",
    "plt.figure(figsize=(10, 6))\n",
    "plt.scatter(y_test, y_pred_stacking)\n",
    "plt.plot([min(y_test), max(y_test)], [min(y_test), max(y_test)], linestyle='--', color='red', label='Ideal')\n",
    "plt.xlabel(\"Actual Values\")\n",
    "plt.ylabel(\"Predicted Values\")\n",
    "plt.title(\"Actual vs. Predicted Values (Stacking)\")\n",
    "plt.legend()\n",
    "plt.grid(True)\n",
    "plt.show()\n",
    "\n",
    "# 2. Residual Plot\n",
    "residuals = y_test - y_pred_stacking\n",
    "plt.figure(figsize=(10, 6))\n",
    "plt.scatter(y_pred_stacking, residuals)\n",
    "plt.axhline(y=0, color='red', linestyle='--')\n",
    "plt.xlabel(\"Predicted Values\")\n",
    "plt.ylabel(\"Residuals\")\n",
    "plt.title(\"Residual Plot (Stacking)\")\n",
    "plt.grid(True)\n",
    "plt.show()\n",
    "\n",
    "# 3. Bar plot for metrics\n",
    "metrics = {'MSE': mse_stacking, 'R2': r2_stacking, 'RMSE': rmse_stacking}\n",
    "plt.figure(figsize=(8, 5))\n",
    "plt.bar(metrics.keys(), metrics.values())\n",
    "plt.ylabel(\"Value\")\n",
    "plt.title(\"Stacking Model Performance Metrics\")\n",
    "plt.show()"
   ]
  },
  {
   "cell_type": "markdown",
   "metadata": {},
   "source": [
    "## 4.Define Prediction function"
   ]
  },
  {
   "cell_type": "code",
   "execution_count": 26,
   "metadata": {},
   "outputs": [
    {
     "name": "stdout",
     "output_type": "stream",
     "text": [
      "88233.7\n"
     ]
    },
    {
     "name": "stderr",
     "output_type": "stream",
     "text": [
      "c:\\Users\\asus\\anaconda\\envs\\myenv\\Lib\\site-packages\\sklearn\\base.py:493: UserWarning: X does not have valid feature names, but StandardScaler was fitted with feature names\n",
      "  warnings.warn(\n"
     ]
    }
   ],
   "source": [
    "def prediction( average_rain_fall_mm_per_year, pesticides_tonnes, avg_temp, Item):\n",
    "    # Create an array of the input features\n",
    "    features = np.array([[average_rain_fall_mm_per_year, pesticides_tonnes, avg_temp,Item]], dtype=object)\n",
    "\n",
    "    # Transform the features using the preprocessor\n",
    "    features[:,3] = le.transform(features[:,3])\n",
    "    transformed_features = processor.transform(features)\n",
    "\n",
    "    # Make the prediction\n",
    "    predicted_yield = best_stacking_model.predict(transformed_features).reshape(1, -1)\n",
    "\n",
    "    return predicted_yield[0][0]\n",
    "\n",
    "\n",
    "average_rain_fall_mm_per_year =1485.0\n",
    "pesticides_tonnes = 121.00\n",
    "avg_temp = 16.37                   \n",
    "Item = 'Maize'\n",
    "result = prediction(average_rain_fall_mm_per_year, pesticides_tonnes, avg_temp, Item)\n",
    "\n",
    "print(result)"
   ]
  },
  {
   "cell_type": "code",
   "execution_count": 22,
   "metadata": {},
   "outputs": [
    {
     "ename": "NameError",
     "evalue": "name 'Item' is not defined",
     "output_type": "error",
     "traceback": [
      "\u001b[1;31m---------------------------------------------------------------------------\u001b[0m",
      "\u001b[1;31mNameError\u001b[0m                                 Traceback (most recent call last)",
      "Cell \u001b[1;32mIn[22], line 1\u001b[0m\n\u001b[1;32m----> 1\u001b[0m \u001b[38;5;28mprint\u001b[39m(\u001b[38;5;124mf\u001b[39m\u001b[38;5;124m\"\u001b[39m\u001b[38;5;124mThe predicted yield for \u001b[39m\u001b[38;5;132;01m{\u001b[39;00m\u001b[43mItem\u001b[49m\u001b[38;5;132;01m}\u001b[39;00m\u001b[38;5;124m with \u001b[39m\u001b[38;5;132;01m{\u001b[39;00maverage_rain_fall_mm_per_year\u001b[38;5;132;01m}\u001b[39;00m\u001b[38;5;124m average rainfall, \u001b[39m\u001b[38;5;132;01m{\u001b[39;00mpesticides_tonnes\u001b[38;5;132;01m}\u001b[39;00m\u001b[38;5;124m tonnes of pesticides, and \u001b[39m\u001b[38;5;132;01m{\u001b[39;00mavg_temp\u001b[38;5;132;01m}\u001b[39;00m\u001b[38;5;124m average temperature is \u001b[39m\u001b[38;5;132;01m{\u001b[39;00mresult\u001b[38;5;132;01m}\u001b[39;00m\u001b[38;5;124m hg/ha\u001b[39m\u001b[38;5;124m\"\u001b[39m)\n",
      "\u001b[1;31mNameError\u001b[0m: name 'Item' is not defined"
     ]
    }
   ],
   "source": [
    "print(f\"The predicted yield for {Item} with {average_rain_fall_mm_per_year} average rainfall, {pesticides_tonnes} tonnes of pesticides, and {avg_temp} average temperature is {result} hg/ha\")"
   ]
  },
  {
   "cell_type": "code",
   "execution_count": null,
   "metadata": {},
   "outputs": [
    {
     "data": {
      "text/plain": [
       "['data_processor.pkl']"
      ]
     },
     "execution_count": 25,
     "metadata": {},
     "output_type": "execute_result"
    }
   ],
   "source": [
    "import job\n",
    "joblib.dump(best_stacking_model, 'yield_prediction_model.pkl') #Model\n",
    "joblib.dump(le, 'label_encoder.pkl') #LAbel Encoding\n",
    "joblib.dump(processor, 'data_processor.pkl') #Scaling"
   ]
  },
  {
   "cell_type": "code",
   "execution_count": null,
   "metadata": {},
   "outputs": [],
   "source": []
  }
 ],
 "metadata": {
  "kernelspec": {
   "display_name": "myenv",
   "language": "python",
   "name": "python3"
  },
  "language_info": {
   "codemirror_mode": {
    "name": "ipython",
    "version": 3
   },
   "file_extension": ".py",
   "mimetype": "text/x-python",
   "name": "python",
   "nbconvert_exporter": "python",
   "pygments_lexer": "ipython3",
   "version": "3.11.5"
  }
 },
 "nbformat": 4,
 "nbformat_minor": 2
}
